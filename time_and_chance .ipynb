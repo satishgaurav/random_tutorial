{
 "cells": [
  {
   "cell_type": "markdown",
   "metadata": {},
   "source": [
    "### Time and Chane \n",
    "\n",
    "How to differentiate between **time probability** and **ensemle probability** ? \n",
    "\n",
    "time != ensemble "
   ]
  },
  {
   "cell_type": "code",
   "execution_count": 6,
   "metadata": {},
   "outputs": [
    {
     "name": "stdout",
     "output_type": "stream",
     "text": [
      "Heads\n",
      "Heads\n",
      "Heads\n",
      "Tails\n"
     ]
    }
   ],
   "source": [
    "from random import choice \n",
    "\n",
    "print(choice(['Heads', 'Tails']))\n",
    "print(choice(['Heads', 'Tails']))\n",
    "print(choice(['Heads', 'Tails']))\n",
    "print(choice(['Heads', 'Tails']))"
   ]
  },
  {
   "cell_type": "code",
   "execution_count": 127,
   "metadata": {},
   "outputs": [
    {
     "name": "stdout",
     "output_type": "stream",
     "text": [
      "After betting 2000 times, you will win: $4300\n"
     ]
    },
    {
     "data": {
      "text/plain": [
       "[<matplotlib.lines.Line2D at 0x1bd7305fcd0>]"
      ]
     },
     "execution_count": 127,
     "metadata": {},
     "output_type": "execute_result"
    },
    {
     "data": {
      "text/plain": [
       "Text(0.5, 1.0, 'time probability')"
      ]
     },
     "execution_count": 127,
     "metadata": {},
     "output_type": "execute_result"
    },
    {
     "data": {
      "text/plain": [
       "Text(0.5, 0, 'time in day(s)')"
      ]
     },
     "execution_count": 127,
     "metadata": {},
     "output_type": "execute_result"
    },
    {
     "data": {
      "text/plain": [
       "Text(0, 0.5, 'money in $')"
      ]
     },
     "execution_count": 127,
     "metadata": {},
     "output_type": "execute_result"
    },
    {
     "data": {
      "image/png": "[encoded data removed]",
      "text/plain": [
       "<Figure size 432x288 with 1 Axes>"
      ]
     },
     "metadata": {
      "needs_background": "light"
     },
     "output_type": "display_data"
    }
   ],
   "source": [
    "from random import choice \n",
    "\n",
    "N=2000 ## this is the total number of flips \n",
    "total = 100 ## this is how much money is won \n",
    "n = 1 ## this is just counter \n",
    "money = []\n",
    "time = [] \n",
    "\n",
    "\n",
    "while n <= N: \n",
    "    bet = choice([-140, 150])  ## this is the bet. -$10 or +$20\n",
    "    \n",
    "    money = money + [total] \n",
    "    total = total + bet ## add to the total \n",
    "    ## lists of money and time \n",
    "\n",
    "    time = time + [n]\n",
    "    n = n + 1 ## Increments the counter \n",
    "    \n",
    "    \n",
    "\n",
    "print(\"After betting \" + str(N) + \" times, you will win: $\" + str(total))\n",
    "\n",
    "\n",
    "import numpy as np \n",
    "import matplotlib.pyplot as plt \n",
    "\n",
    "fig = plt.figure()\n",
    "plt.plot(time, money, '-')\n",
    "plt.title(\"time probability\")\n",
    "plt.xlabel(\"time in day(s)\")\n",
    "plt.ylabel(\"money in $\")"
   ]
  },
  {
   "cell_type": "code",
   "execution_count": 128,
   "metadata": {
    "scrolled": true
   },
   "outputs": [],
   "source": [
    "# print(money)\n",
    "# print(time) "
   ]
  },
  {
   "cell_type": "code",
   "execution_count": 99,
   "metadata": {},
   "outputs": [
    {
     "name": "stdout",
     "output_type": "stream",
     "text": [
      "you will win $102.42\n",
      "No of times you will loose: 19\n"
     ]
    }
   ],
   "source": [
    "## More useful code \n",
    "from random import choice \n",
    "from numpy import * \n",
    "\n",
    "def flip(N, lose, win): \n",
    "    ## N is number of flips \n",
    "    ## lose is the amount you loose \n",
    "    ## win is the amount you win \n",
    "    total = 0 \n",
    "    n = 1 \n",
    "    while n <= N: \n",
    "        bet = choice([lose, win])\n",
    "        total = total + bet \n",
    "        n = n + 1 \n",
    "    return total \n",
    "\n",
    "\n",
    " \n",
    "M = 100 ## number of times you are running the bet of flipping \n",
    "## the coin 100 times \n",
    "m = 1 ## counter \n",
    "money = []\n",
    "lost = 0 ## how many times did you loose money ? \n",
    "\n",
    "while m <= M: \n",
    "    stuff = flip(100, -10, 12)\n",
    "    money = money + [stuff]\n",
    "    \n",
    "    if stuff < 0: \n",
    "        lost = lost + 1 \n",
    "    m = m + 1 \n",
    "\n",
    "print(\"you will win $\" + str(mean(money)))\n",
    "print(\"No of times you will loose: \"  + str(lost))"
   ]
  },
  {
   "cell_type": "code",
   "execution_count": null,
   "metadata": {},
   "outputs": [],
   "source": []
  }
 ],
 "metadata": {
  "kernelspec": {
   "display_name": "Python 3",
   "language": "python",
   "name": "python3"
  },
  "language_info": {
   "codemirror_mode": {
    "name": "ipython",
    "version": 3
   },
   "file_extension": ".py",
   "mimetype": "text/x-python",
   "name": "python",
   "nbconvert_exporter": "python",
   "pygments_lexer": "ipython3",
   "version": "3.8.5"
  }
 },
 "nbformat": 4,
 "nbformat_minor": 4
}
